{
  "nbformat": 4,
  "nbformat_minor": 0,
  "metadata": {
    "colab": {
      "provenance": [],
      "include_colab_link": true
    },
    "kernelspec": {
      "name": "python3",
      "display_name": "Python 3"
    },
    "language_info": {
      "name": "python"
    }
  },
  "cells": [
    {
      "cell_type": "markdown",
      "metadata": {
        "id": "view-in-github",
        "colab_type": "text"
      },
      "source": [
        "<a href=\"https://colab.research.google.com/github/Wkeat1202/buildingblocs-test/blob/main/March_Conference__Intro_to_Python_.ipynb\" target=\"_parent\"><img src=\"https://colab.research.google.com/assets/colab-badge.svg\" alt=\"Open In Colab\"/></a>"
      ]
    },
    {
      "cell_type": "code",
      "execution_count": null,
      "metadata": {
        "id": "FTR09w-afFIX"
      },
      "outputs": [],
      "source": [
        "print(\"Hello world!\")\n",
        "# Hi! I am a comment! Use the '#' symbol to indicate the start of a comment."
      ]
    },
    {
      "cell_type": "markdown",
      "source": [
        "#**Variables and Types**"
      ],
      "metadata": {
        "id": "_4lkzSgCqOue"
      }
    },
    {
      "cell_type": "code",
      "source": [
        "# Try creating your own variables here\n",
        "john = \"cena\"\n",
        "\n",
        "print(john)"
      ],
      "metadata": {
        "id": "svqyga6FuIBG"
      },
      "execution_count": null,
      "outputs": []
    },
    {
      "cell_type": "code",
      "source": [
        "# Invalid names\n",
        "and = 2\n",
        "True = 1"
      ],
      "metadata": {
        "id": "yt99kXcMsYCT"
      },
      "execution_count": null,
      "outputs": []
    },
    {
      "cell_type": "markdown",
      "source": [
        "User Input"
      ],
      "metadata": {
        "id": "UuqULwYosczU"
      }
    },
    {
      "cell_type": "code",
      "source": [
        "x = input(\"Type Something: \")\n",
        "print(x)"
      ],
      "metadata": {
        "collapsed": true,
        "id": "HY-N6CxiseKy"
      },
      "execution_count": null,
      "outputs": []
    },
    {
      "cell_type": "code",
      "source": [
        "x = int(input(\"Give me a number!: \"))\n",
        "print(type(x))"
      ],
      "metadata": {
        "id": "6raUu0gwgbQ9"
      },
      "execution_count": null,
      "outputs": []
    },
    {
      "cell_type": "markdown",
      "source": [
        "##Basic Datatypes"
      ],
      "metadata": {
        "id": "pjW1cpxouffQ"
      }
    },
    {
      "cell_type": "code",
      "source": [
        "var1 = 2  # Integer\n",
        "\n",
        "var2 = 2.1  # Float\n",
        "\n",
        "_jeremy = True  # Boolean\n",
        "\n",
        "bee_movie = \"According to all known laws of aviation,...\"  # string\n",
        "\n",
        "i_hate_lists = [\"item 1\", 2, 3.0, [\"Wow another list inside!\", 4.2]]  # list\n",
        "\n",
        "i_love_dictionaries = {\n",
        "    \"one\": 1,\n",
        "    \"two\": 2,\n",
        "    \"three\": 3,\n",
        "}  # a dictionary!\n",
        "\n",
        "placeholder = None\n",
        "\n",
        "print(\"this is var1: \", var1)\n",
        "print(\"this is var2: \", var2)\n",
        "print(\"this is _jeremy: \", _jeremy)\n",
        "print(\"this is bee_movie: \", bee_movie)\n",
        "print(\"this is i_hate_lists: \", i_hate_lists)\n",
        "print(\"this is i_love_dictionaries: \", i_love_dictionaries)"
      ],
      "metadata": {
        "colab": {
          "base_uri": "https://localhost:8080/"
        },
        "id": "vjdz9YVUqTnO",
        "outputId": "12ca04e8-6b5f-4e69-f58e-c3f2eb65ff2a"
      },
      "execution_count": null,
      "outputs": [
        {
          "output_type": "stream",
          "name": "stdout",
          "text": [
            "this is var1:  2\n",
            "this is var2:  2.0\n",
            "this is _jeremy:  True\n",
            "this is bee_movie:  According to all known laws of aviation,...\n",
            "this is i_hate_lists:  ['item 1', 2, 3.0, ['Wow another list inside!', 4.2]]\n",
            "this is i_love_dictionaries:  {'one': 1, 'two': 2, 'three': 3}\n"
          ]
        }
      ]
    },
    {
      "cell_type": "code",
      "source": [
        "# Since this is a jupyter notebook, variables from one cell will carry onto another!\n",
        "print(\"this is var1 again: \", var1)"
      ],
      "metadata": {
        "id": "ju_kFXg5sBk4"
      },
      "execution_count": null,
      "outputs": []
    },
    {
      "cell_type": "markdown",
      "source": [
        "##Integers and Floats"
      ],
      "metadata": {
        "id": "TJf3FXGG49GZ"
      }
    },
    {
      "cell_type": "markdown",
      "source": [
        "Integers are any whole number, **including 0**. They are represented by `int`\n",
        "\n",
        "Floats are any number **containing a decimal point**. They are represented by `float`"
      ],
      "metadata": {
        "id": "1bQrGzpn5Zg3"
      }
    },
    {
      "cell_type": "code",
      "source": [
        "num1 = 2\n",
        "num2 = 2.8\n",
        "\n",
        "print(\"num1 is of type \", type(num1))\n",
        "print(\"num2 is of type \", type(num2))"
      ],
      "metadata": {
        "id": "Lp1ZLOfK5B8-"
      },
      "execution_count": null,
      "outputs": []
    },
    {
      "cell_type": "markdown",
      "source": [
        "`int` can be converted into `float` and vice versa.\n",
        "\n",
        "Converting a `float` into an `int` truncates (cuts off) the decimal"
      ],
      "metadata": {
        "id": "qE4wGZWT5wnX"
      }
    },
    {
      "cell_type": "code",
      "source": [
        "num1 = float(num1)\n",
        "num2 = int(num2)\n",
        "print(\"num1 is now of type \", type(num1), \" and value \", num1)\n",
        "print(\"num2 is now of type \", type(num2), \" and value \", num2)"
      ],
      "metadata": {
        "id": "pyGiERKw5pM6"
      },
      "execution_count": null,
      "outputs": []
    },
    {
      "cell_type": "markdown",
      "source": [
        "Arithmetic"
      ],
      "metadata": {
        "id": "pwnxjlP-62ZL"
      }
    },
    {
      "cell_type": "code",
      "source": [
        "x = 5\n",
        "y = 2\n",
        "# Basic stuff\n",
        "print(x + y)\n",
        "print(x - y)\n",
        "print(x / y)\n",
        "print(x * y)"
      ],
      "metadata": {
        "id": "zmYbO9hz6xzp"
      },
      "execution_count": null,
      "outputs": []
    },
    {
      "cell_type": "code",
      "source": [
        "# The cool stuff\n",
        "print(x // y)  # floor of x/y\n",
        "print(x ** y)  # x^y\n",
        "print(x % y)  # whole number remainder of x / y"
      ],
      "metadata": {
        "id": "OFsbYurR7DrF"
      },
      "execution_count": null,
      "outputs": []
    },
    {
      "cell_type": "code",
      "source": [
        "# Modulo Task\n",
        "# use this space\n",
        "\n",
        "num1 = int(input(\"Input first number: \"))\n",
        "num2 = int(input(\"Input second number: \"))\n",
        "print(\"Remainder of num1 / num2 = \", num1 % num2)"
      ],
      "metadata": {
        "id": "C540NWx-wqa9",
        "colab": {
          "base_uri": "https://localhost:8080/"
        },
        "outputId": "25d0abdd-3976-417f-98c2-18681d4ee541"
      },
      "execution_count": null,
      "outputs": [
        {
          "output_type": "stream",
          "name": "stdout",
          "text": [
            "Input first number: 5\n",
            "Input second number: 2\n",
            "Remainder of num1 / num2 =  1\n"
          ]
        }
      ]
    },
    {
      "cell_type": "code",
      "source": [
        "# Modulo use-case:\n",
        "def isEven(num):  # function definition\n",
        "  if num % 2 == 0:  # if the number has no remainder when divided by 2, it is an even number\n",
        "    print(\"This number is even!\")\n",
        "  else:\n",
        "    print(\"This number is odd!\")\n",
        "\n",
        "if __name__ == \"__main__\":\n",
        "  x = int(input(\"Type a number!: \"))\n",
        "  isEven(x)"
      ],
      "metadata": {
        "id": "d_JZIN2E7Xwa"
      },
      "execution_count": null,
      "outputs": []
    },
    {
      "cell_type": "markdown",
      "source": [
        "`floats` are weird... due to how they are represented by the computer"
      ],
      "metadata": {
        "id": "l-xZukCT9Kd1"
      }
    },
    {
      "cell_type": "code",
      "source": [
        "0.1 + 0.2"
      ],
      "metadata": {
        "id": "o8gp1ToF9SdZ"
      },
      "execution_count": null,
      "outputs": []
    },
    {
      "cell_type": "markdown",
      "source": [
        "So, avoid comparing floats in `if` statements (which is covered later)"
      ],
      "metadata": {
        "id": "gUGDVrKp-G3m"
      }
    },
    {
      "cell_type": "code",
      "source": [
        "0.1 + 0.2 == 0.3"
      ],
      "metadata": {
        "id": "k1lrTr6M-P5u"
      },
      "execution_count": null,
      "outputs": []
    },
    {
      "cell_type": "markdown",
      "source": [
        "##Booleans"
      ],
      "metadata": {
        "id": "EgrJhDl2qdjb"
      }
    },
    {
      "cell_type": "markdown",
      "source": [
        "`True` or `False`, represented by `bool`"
      ],
      "metadata": {
        "id": "pInXUTLDqfnZ"
      }
    },
    {
      "cell_type": "code",
      "source": [
        "is_yummy = True\n",
        "is_edible = False"
      ],
      "metadata": {
        "id": "YlvfZJp2qiWh"
      },
      "execution_count": null,
      "outputs": []
    },
    {
      "cell_type": "markdown",
      "source": [
        "Other datatypes can be converted into `True` and `False` by Python.\n",
        "- Any empty `str`, `0`, `None` or empty container such as a list, is converted to `False`\n",
        "- Mostly everything else is converted to `True`"
      ],
      "metadata": {
        "id": "RpmNn2XRtl_y"
      }
    },
    {
      "cell_type": "code",
      "source": [
        "print(bool([]))  # In `if` statements, you do not need to use bool(). It is implicitly converted into a boolean\n",
        "print(bool(None))\n",
        "print(bool(\"thiswillbetruetrustme\"))"
      ],
      "metadata": {
        "id": "yJgW_eXht3LS"
      },
      "execution_count": null,
      "outputs": []
    },
    {
      "cell_type": "markdown",
      "source": [
        "Booleans can be changed from `True` to `False` and vice versa using the `not` keyword"
      ],
      "metadata": {
        "id": "J1buGimZuJRt"
      }
    },
    {
      "cell_type": "code",
      "source": [
        "print(not bool([]))\n",
        "print(not bool(\"thiswillbetruedonttrustme\"))"
      ],
      "metadata": {
        "colab": {
          "base_uri": "https://localhost:8080/"
        },
        "id": "GOPBS9TDuQFo",
        "outputId": "f3ff1b83-e165-4769-fecc-17a64ddc1644"
      },
      "execution_count": null,
      "outputs": [
        {
          "output_type": "stream",
          "name": "stdout",
          "text": [
            "True\n",
            "False\n"
          ]
        }
      ]
    },
    {
      "cell_type": "markdown",
      "source": [
        "`True` and `False` can also be converted into `int` implicitly\n",
        "- `True` -> `1`\n",
        "- `False` -> `0`"
      ],
      "metadata": {
        "id": "yLJbYtAsu6k1"
      }
    },
    {
      "cell_type": "code",
      "source": [
        "print(True + 1)\n",
        "print(False - 1)"
      ],
      "metadata": {
        "colab": {
          "base_uri": "https://localhost:8080/"
        },
        "id": "EjXiDvA3vJFC",
        "outputId": "d7448c44-278c-48dc-8c80-73a30015a9b3"
      },
      "execution_count": null,
      "outputs": [
        {
          "output_type": "stream",
          "name": "stdout",
          "text": [
            "2\n",
            "-1\n"
          ]
        }
      ]
    },
    {
      "cell_type": "markdown",
      "source": [
        "##Strings"
      ],
      "metadata": {
        "id": "HJ9mh_PJAu97"
      }
    },
    {
      "cell_type": "markdown",
      "source": [
        "Words or characters enclosed in quotations. Represented by `str`"
      ],
      "metadata": {
        "id": "J2NCH7mfAyiN"
      }
    },
    {
      "cell_type": "code",
      "source": [
        "x = \"Hi! I'm a string!\"\n",
        "print(x)"
      ],
      "metadata": {
        "id": "JlFUVrU2A4yY"
      },
      "execution_count": null,
      "outputs": []
    },
    {
      "cell_type": "markdown",
      "source": [
        "The type of quotations, `' '` or `\" \"`, matter if youre mixing them with one another"
      ],
      "metadata": {
        "id": "38AJ9PsCA9x8"
      }
    },
    {
      "cell_type": "code",
      "source": [
        "x = \"His name is \"Mykull\"\"\n",
        "print(x)\n",
        "# try fixing this error caused by bad quotation mark usage"
      ],
      "metadata": {
        "id": "CCATJpMNBXFU"
      },
      "execution_count": null,
      "outputs": []
    },
    {
      "cell_type": "markdown",
      "source": [
        "Simple Operations"
      ],
      "metadata": {
        "id": "gvxlPALAI9GT"
      }
    },
    {
      "cell_type": "code",
      "source": [
        "# Adding strings together\n",
        "x = \"fizz\"\n",
        "y = \"buzz\"\n",
        "print(x + y)\n",
        "print(\"Length of x: \", len(x))  # len(str) to find length"
      ],
      "metadata": {
        "id": "dE8pGdBVCJTi"
      },
      "execution_count": null,
      "outputs": []
    },
    {
      "cell_type": "markdown",
      "source": [
        "Special Characters - Escape characters\n",
        "\n",
        "Prefixed with `\\`"
      ],
      "metadata": {
        "id": "PVexjtAqJVbF"
      }
    },
    {
      "cell_type": "code",
      "source": [
        "x = \"newline\\nnewline\"  # newline\n",
        "y = \"i luv\\tbbcs\"  # tab\n",
        "print(y)\n",
        "print(x)"
      ],
      "metadata": {
        "id": "W7dtvyzOJddT"
      },
      "execution_count": null,
      "outputs": []
    },
    {
      "cell_type": "code",
      "source": [
        "# In the case u wish to mix single and double quotes, use \\' and \\\" as needed\n",
        "print(\"\\\" this is a double quote!\")\n",
        "print('\\' this is a single quote!')\n",
        "# to use \\ in messages\n",
        "print(\"\\\\ this is a backslash!\")"
      ],
      "metadata": {
        "id": "Ae3dnm9jSO-G"
      },
      "execution_count": null,
      "outputs": []
    },
    {
      "cell_type": "markdown",
      "source": [
        "Useful stringtypes `r\" \"` and `f\" \"`\n",
        "\n",
        "`r\" \"` - Raw strings ignore `\\` escape characters and treats it as a normal character\n",
        "\n",
        "`f\" \"` - Formatted strings allow you to easily insert variable values into strings!"
      ],
      "metadata": {
        "id": "phm6CRf1SmkY"
      }
    },
    {
      "cell_type": "code",
      "source": [
        "var1 = \"yap yap yap\"\n",
        "edit_this = \"this is var1 \\n {var1}\"\n",
        "# add r or f in front of the quotation marks and see how the output changes!\n",
        "print(edit_this)"
      ],
      "metadata": {
        "id": "9cAqHHMtTHKT"
      },
      "execution_count": null,
      "outputs": []
    },
    {
      "cell_type": "markdown",
      "source": [
        "##Lists"
      ],
      "metadata": {
        "id": "Ywa68dphVPtl"
      }
    },
    {
      "cell_type": "markdown",
      "source": [
        "Dynamically sized containers represented by `list`\n",
        "\n",
        "Enclosed by sqaure brackets `[ ]` and can store multiple elements of different types at once"
      ],
      "metadata": {
        "id": "_OEu-z2oVRX8"
      }
    },
    {
      "cell_type": "code",
      "source": [
        "x = [1, \"2\", True, [\"another\", \"list!\"]]"
      ],
      "metadata": {
        "id": "c6YezsaMVh0X"
      },
      "execution_count": null,
      "outputs": []
    },
    {
      "cell_type": "markdown",
      "source": [
        "Indexing (can also be used for strings)\n",
        "\n",
        "Lists are 0-indexed; the first element in the list is labeled as number `0`\n",
        "\n",
        "Items from the back are labelled `-1`, `-2`, ..."
      ],
      "metadata": {
        "id": "uzs_aY-NVqkA"
      }
    },
    {
      "cell_type": "code",
      "source": [
        "x = [\"aye\", \"luv\", \"bbcs\", \"fr\", \"@\"]\n",
        "#      0      1      2      3      4 or -1\n",
        "print()  # Try printing out the 2nd and 3rd elements!"
      ],
      "metadata": {
        "id": "4exyNmAuV-3L"
      },
      "execution_count": null,
      "outputs": []
    },
    {
      "cell_type": "markdown",
      "source": [
        "Remember how you can put a list in a list? The most common use-case are matrices.\n",
        "\n",
        "\n",
        "In this example, we a have a 2-D matrix. We will try to access the elements in it."
      ],
      "metadata": {
        "id": "rMhvtCxaWJqh"
      }
    },
    {
      "cell_type": "code",
      "source": [
        "x = [[1, 2, 3],\n",
        "    [4, 5, 6],\n",
        "    [7, 8, 9],]\n",
        "print()  #Try printing out the last item of the list and its type using the type() function"
      ],
      "metadata": {
        "id": "HqVesiZTWIPi"
      },
      "execution_count": null,
      "outputs": []
    },
    {
      "cell_type": "code",
      "source": [
        "# Accessing individual elements\n",
        "print(x[1][2])\n",
        "# You can think of it as (x[1])[2], working from left-right.\n",
        "# This operation to access elements can be extended to other nested containers\n",
        "# such as lists of dictionaries, or dictionaries of other dictionaries"
      ],
      "metadata": {
        "id": "CZBoNJ1rXDTY"
      },
      "execution_count": null,
      "outputs": []
    },
    {
      "cell_type": "markdown",
      "source": [
        "List operations - changing elements and list slicing"
      ],
      "metadata": {
        "id": "1Q4Zx_KTXvWy"
      }
    },
    {
      "cell_type": "code",
      "source": [
        "# You can  replace elements by index!\n",
        "x = [\"aye\", \"luv\", \"bbcs\", \"fr\", \"@\"]\n",
        "#      0      1      2      3      4 or -1\n",
        "x[0] = \"I\"\n",
        "print(x)"
      ],
      "metadata": {
        "id": "qLJ95x_wXZBr"
      },
      "execution_count": null,
      "outputs": []
    },
    {
      "cell_type": "code",
      "source": [
        "#[start_index (optional, default first element):\n",
        "# stop_index (optional, default last element):\n",
        "# step (optional, default 1)]\n",
        "x = [\"aye\", \"luv\", \"bbcs\", \"fr\", \"@\"]\n",
        "#      0      1      2      3      4 or -1\n",
        "x_slice = x[1:4]\n",
        "# The stop_index is EXCLUSIVE, meaning that the item of that index will not be included in the slice.\n",
        "# So item of index 4 will not be included in x_slice.\n",
        "print(x_slice)"
      ],
      "metadata": {
        "id": "YwtF_nhaX-Y0"
      },
      "execution_count": null,
      "outputs": []
    },
    {
      "cell_type": "code",
      "source": [
        "# Use this space for the task\n"
      ],
      "metadata": {
        "id": "V6Ncc9B3u4iZ"
      },
      "execution_count": null,
      "outputs": []
    },
    {
      "cell_type": "markdown",
      "source": [
        "Useful Functions\n",
        "\n",
        "`len()` - length of list\n",
        "\n",
        "`max()` and `min()` - max and min vals of list"
      ],
      "metadata": {
        "id": "N67sqDxSYsXc"
      }
    },
    {
      "cell_type": "code",
      "source": [
        "x = [1, 2, 3, -1, 0, 2, 19, 5, 9, 8]\n",
        "print(len(x))\n",
        "print(max(x))"
      ],
      "metadata": {
        "id": "PTB5w8iqY4Wg"
      },
      "execution_count": null,
      "outputs": []
    },
    {
      "cell_type": "markdown",
      "source": [
        "List Methods\n",
        "\n",
        "called using `list.method()`"
      ],
      "metadata": {
        "id": "-Wk2zBMcZNJ0"
      }
    },
    {
      "cell_type": "code",
      "source": [
        "x = [\"aye\", \"luv\", \"bbcs\", \"fr\", \"@\"]\n",
        "#      0      1      2      3      4 or -1\n",
        "x.append(\"python\")  # Adds element to the back\n",
        "print(f\"'bbcs' first appears at index {x.index('bbcs')}\")\n",
        "x.sort()  # sorts in-place\n",
        "print(f\"sorted list: {x}\")\n",
        "x.pop(1)  # Removes item at index 1\n",
        "print(f\"removed bbcs from sorted x: {x}\")"
      ],
      "metadata": {
        "id": "xa5rPGO8liuB"
      },
      "execution_count": null,
      "outputs": []
    },
    {
      "cell_type": "code",
      "source": [
        "y = [1, 5, 2, 3, 7, 3, 6]\n",
        "# What if i want to make a sorted copy of y?\n",
        "z = y\n",
        "z.sort()\n",
        "print(f\"z: {z}\")\n",
        "print(f\"y: {y}\")\n",
        "# Seems like changing z also affects y. Try fixing this using the .copy() method"
      ],
      "metadata": {
        "id": "YrouK6MEZ75T"
      },
      "execution_count": null,
      "outputs": []
    },
    {
      "cell_type": "code",
      "source": [
        "# Example of a loop affected by changing the list inside the loop\n",
        "x = [1, 2, 3, 4, 5, 6, 7, 8, 9, 10]\n",
        "for i in x:\n",
        "  print(f\"Currently on {i}.\")\n",
        "  if i % 2 == 0:  # Checking if `i` is even\n",
        "    x.remove(x.index(i))\n",
        "# This is due to the way `for` iterates over loops.\n",
        "# An intuitive way to put it is that it loops over the list using index numbers\n",
        "# i.e 0, 1, 2, 3.\n",
        "# Removing certain numbers causes the list to become smaller. For example:\n",
        "#\n",
        "# The for loop first goes to index `0`, then index `1`. The element at index `1` is 2.\n",
        "# Since remainder of 2 / 2 is 0, `if` evaluates to True, and removes 2 from the list.\n",
        "# Removal of 2 causes the list to become\n",
        "# [1, 3, 4, 5, 6, 7, 8, 9, 10], and 3 is now index `1` instead of index `2` previously.\n",
        "# The for loop now checks index `2`, which is now the element 4."
      ],
      "metadata": {
        "colab": {
          "base_uri": "https://localhost:8080/"
        },
        "id": "E_Rh3MhRcOwT",
        "outputId": "e628343b-2491-4b61-88f3-7f520e607997"
      },
      "execution_count": null,
      "outputs": [
        {
          "output_type": "stream",
          "name": "stdout",
          "text": [
            "Currently on 1.\n",
            "Currently on 2.\n",
            "Currently on 4.\n",
            "Currently on 6.\n",
            "Currently on 8.\n",
            "Currently on 10.\n"
          ]
        }
      ]
    },
    {
      "cell_type": "markdown",
      "source": [
        "##Dictionaries"
      ],
      "metadata": {
        "id": "eplJUYyLeGb4"
      }
    },
    {
      "cell_type": "markdown",
      "source": [
        "Dynamically sized container containing key:value pairs. Represented by `dict`\n",
        "\n",
        "Enclosed by curly brackets: `{ }`"
      ],
      "metadata": {
        "id": "Bsb1jFhBeIdI"
      }
    },
    {
      "cell_type": "code",
      "source": [
        "x = {\n",
        "    \"key\":\"value\",\n",
        "    2: \"apple\",\n",
        "    True: \"false\",\n",
        "    \"body\": \"Canon EOS R50\",\n",
        "    \"lens\": \"RF-S 18-45mm\",\n",
        "}"
      ],
      "metadata": {
        "id": "7gBk3sEAreMG"
      },
      "execution_count": null,
      "outputs": []
    },
    {
      "cell_type": "markdown",
      "source": [
        "Accessing and changing values using keys:\n",
        "\n",
        "`dict[key]` vs `dict.get(key)`"
      ],
      "metadata": {
        "id": "3_KLjGaBeiS9"
      }
    },
    {
      "cell_type": "code",
      "source": [
        "x = {\n",
        "    \"key\":\"value\",\n",
        "    2: \"apple\",\n",
        "    True: \"false\",\n",
        "    \"body\": \"Canon EOS R50\",\n",
        "    \"lens\": \"RF-S 18-45mm\",\n",
        "}\n",
        "print(x[2])  # May create a new key:val pair if key does not exist, i.e when you have a typo in the name\n",
        "print(x.get(2))  # More readable - preferred if ONLY accessing values\n",
        "\n",
        "# changing values - easily done with dict[key]\n",
        "x[2] = \"banana\"\n",
        "# trying x.get(2) = \"banana\" will result in an error."
      ],
      "metadata": {
        "id": "-LovZWrTeXts"
      },
      "execution_count": null,
      "outputs": []
    },
    {
      "cell_type": "markdown",
      "source": [
        "Methods"
      ],
      "metadata": {
        "id": "v7z8DJKgfGhI"
      }
    },
    {
      "cell_type": "code",
      "source": [
        "x = {\n",
        "    \"key\":\"value\",\n",
        "    2: \"apple\",\n",
        "    True: \"false\",\n",
        "    \"body\": \"Canon EOS R50\",\n",
        "    \"lens\": \"RF-S 18-45mm\",\n",
        "}\n",
        "print(f\"Keys: {list(x.keys())}\")  # Not converting to a list using list() is also fine.\n",
        "print(f\"Items: {list(x.items())}\")\n",
        "x.pop(2)\n",
        "print(x)"
      ],
      "metadata": {
        "id": "9Fmj9ftNeXZd"
      },
      "execution_count": null,
      "outputs": []
    },
    {
      "cell_type": "markdown",
      "source": [
        "For the practice task."
      ],
      "metadata": {
        "id": "g_msr7pbfkpK"
      }
    },
    {
      "cell_type": "code",
      "source": [
        "# Answer here"
      ],
      "metadata": {
        "id": "QxfvQf2C1iEO"
      },
      "execution_count": null,
      "outputs": []
    },
    {
      "cell_type": "markdown",
      "source": [
        "# **Conditionals**\n",
        "> Statements that allow code to execute different actions based on whether a specified condition evaluates to True or False.\n",
        "\n",
        "\n",
        "\n",
        "\n",
        "\n",
        "---\n",
        "\n",
        "**Mathematical Conditions**\n",
        "\n",
        "\n",
        "*   Equals: ==\n",
        "*   Not Equals: !=\n",
        "* Greater than: >\n",
        "* Less than: <\n",
        "* Greater than or equal to: >=\n",
        "* Less than or equal to: <=\n",
        "\n",
        "**Conditionals**\n",
        "\n",
        "\n",
        "*   if\n",
        "*   elif\n",
        "* else\n",
        "\n",
        "\n",
        "\n"
      ],
      "metadata": {
        "id": "Nqh9k4cmjqY8"
      }
    },
    {
      "cell_type": "code",
      "source": [
        "#if statements - using mathematical operators\n",
        "x = 5\n",
        "y = 2\n",
        "\n",
        "if x > y:\n",
        "  print(\"x is greater than y\")\n"
      ],
      "metadata": {
        "colab": {
          "base_uri": "https://localhost:8080/"
        },
        "id": "UZdp6jbwjp3a",
        "outputId": "6bec1a81-7b2f-4771-9c9d-b457e829fd37"
      },
      "execution_count": null,
      "outputs": [
        {
          "output_type": "stream",
          "name": "stdout",
          "text": [
            "x is greater than y\n"
          ]
        }
      ]
    },
    {
      "cell_type": "code",
      "source": [
        "#else statements - odd and even\n",
        "\n",
        "x = 5\n",
        "y = 2\n",
        "\n",
        "if x % 2 == 1:\n",
        "  print(\"odd\")\n",
        "else:\n",
        "  print(\"even\")"
      ],
      "metadata": {
        "colab": {
          "base_uri": "https://localhost:8080/"
        },
        "id": "V_7lL934nEYe",
        "outputId": "eef8a7d2-7328-4731-e13f-920b945bf20c"
      },
      "execution_count": null,
      "outputs": [
        {
          "output_type": "stream",
          "name": "stdout",
          "text": [
            "even\n"
          ]
        }
      ]
    },
    {
      "cell_type": "code",
      "source": [],
      "metadata": {
        "id": "GA0ZqSZrt1f_"
      },
      "execution_count": null,
      "outputs": []
    },
    {
      "cell_type": "code",
      "source": [
        "#elif statements - positive, negative, zero\n",
        "\n",
        "x = 5\n",
        "y = 2\n",
        "\n",
        "z = x + y\n",
        "if z == 0:\n",
        "  print(\"Z is zero\")\n",
        "elif z > 0:\n",
        "  print(\"Z is positive\")\n",
        "else:\n",
        "  print(\"Z is negative\")\n",
        "\n"
      ],
      "metadata": {
        "colab": {
          "base_uri": "https://localhost:8080/"
        },
        "id": "56agaXmGlwLa",
        "outputId": "3910f576-b85f-4ff9-c724-024ae5be7b54"
      },
      "execution_count": null,
      "outputs": [
        {
          "output_type": "stream",
          "name": "stdout",
          "text": [
            "Z is positive\n"
          ]
        }
      ]
    },
    {
      "cell_type": "code",
      "source": [
        "#Nested if loop - measurements\n",
        "\n",
        "age = 30\n",
        "member = True\n",
        "\n",
        "if age > 18:\n",
        "    if member:\n",
        "        print(\"Ticket price is $12.\")\n",
        "    else:\n",
        "        print(\"Ticket price is $20.\")\n",
        "else:\n",
        "    if member:\n",
        "        print(\"Ticket price is $8.\")\n",
        "    else:\n",
        "        print(\"Ticket price is $10.\")"
      ],
      "metadata": {
        "id": "dbRSc-hVplGc"
      },
      "execution_count": null,
      "outputs": []
    },
    {
      "cell_type": "markdown",
      "source": [
        "# **Exercise**\n",
        "\n",
        "**Guidelines:**\n",
        "\n",
        "Questions are categorised into Basic, Intermediate and Hard. Only basic questions will be discussed in this workshop due to time constraints. However, the solutions will be given after the workshop!\n"
      ],
      "metadata": {
        "id": "OmTfUx3-vrZd"
      }
    },
    {
      "cell_type": "code",
      "source": [
        "#Basic: Given two variables: a and b, find which variable has a longer word length\n",
        "\n",
        "a = \"strawberry\"\n",
        "b = \"mango\"\n",
        "\n"
      ],
      "metadata": {
        "id": "Pdi248vlnqJR"
      },
      "execution_count": null,
      "outputs": []
    },
    {
      "cell_type": "code",
      "source": [
        "#Basic: Given variable a, print \"In List\" if the variable is in the list; else, print \"Not in List\".\n",
        "\n",
        "fruit_list = [\"orange\", \"apple\", \"mango\", \"grapes\"]\n",
        "a = \"strawberry\" #feel free to change the value to check if your code works correctly!\n",
        "\n"
      ],
      "metadata": {
        "id": "0Qk0oh-soL3W"
      },
      "execution_count": null,
      "outputs": []
    },
    {
      "cell_type": "code",
      "source": [
        "#Basic: Given variables a and b, check if a is greater than, equal to or less than b.\n",
        "\n",
        "a = 60\n",
        "b = 60\n",
        "\n"
      ],
      "metadata": {
        "id": "NDU8E3qeo2me"
      },
      "execution_count": null,
      "outputs": []
    },
    {
      "cell_type": "code",
      "source": [
        "#Intermediate: Create a password checking system! Evaluate if the user's password is acceptable.\n",
        "#Requirements: at least 8 characters, contains alphabets and numbers\n",
        "\n",
        "user_input = input(\"Enter a password: \")"
      ],
      "metadata": {
        "id": "nqFEFTEfw3E2"
      },
      "execution_count": null,
      "outputs": []
    },
    {
      "cell_type": "markdown",
      "source": [
        "# **Basic Iterations**\n",
        "\n",
        "Python basic iterations use loops, like `for` and `while`, to repeatedly execute a block of code until a condition is met or a sequence is exhausted.\n",
        "\n",
        "\n",
        "\n",
        "*   for loops\n",
        "* while loop\n",
        "\n",
        "\n",
        "\n"
      ],
      "metadata": {
        "id": "SDkQ6IjApVmZ"
      }
    },
    {
      "cell_type": "code",
      "source": [
        "#For loop - looping through a string\n",
        "\n",
        "for x in \"buildingBloCS\":\n",
        "  print(x)"
      ],
      "metadata": {
        "colab": {
          "base_uri": "https://localhost:8080/"
        },
        "id": "qytUe6k4p3kl",
        "outputId": "c01b6e39-274a-4c53-9f26-7ffaf75f0fd7"
      },
      "execution_count": null,
      "outputs": [
        {
          "output_type": "stream",
          "name": "stdout",
          "text": [
            "b\n",
            "u\n",
            "i\n",
            "l\n",
            "d\n",
            "i\n",
            "n\n",
            "g\n",
            "B\n",
            "l\n",
            "o\n",
            "C\n",
            "S\n"
          ]
        }
      ]
    },
    {
      "cell_type": "code",
      "source": [
        "#For loop - looping through a list\n",
        "months = [\"February\", \"March\", \"April\", \"June\"]\n",
        "for i in months.copy():\n",
        "  print(i)"
      ],
      "metadata": {
        "colab": {
          "base_uri": "https://localhost:8080/"
        },
        "id": "BKYtEKxQqMe4",
        "outputId": "f395bff3-e4a5-4e47-df43-897a11499c15"
      },
      "execution_count": null,
      "outputs": [
        {
          "output_type": "stream",
          "name": "stdout",
          "text": [
            "February\n",
            "March\n",
            "April\n",
            "June\n"
          ]
        }
      ]
    },
    {
      "cell_type": "code",
      "source": [
        "#For loop - for i in range()\n",
        "\n",
        "for y in range(4): #number is not inclusive\n",
        "  print(y)"
      ],
      "metadata": {
        "colab": {
          "base_uri": "https://localhost:8080/"
        },
        "id": "pyNYPWGLrC78",
        "outputId": "9616ca1f-421c-408e-848f-aa04cdba6a7b"
      },
      "execution_count": null,
      "outputs": [
        {
          "output_type": "stream",
          "name": "stdout",
          "text": [
            "0\n",
            "1\n",
            "2\n",
            "3\n"
          ]
        }
      ]
    },
    {
      "cell_type": "code",
      "source": [
        "for y in range(1, 4): #starting number, stop\n",
        "  print(y)"
      ],
      "metadata": {
        "colab": {
          "base_uri": "https://localhost:8080/"
        },
        "id": "-gYO59HXrWXX",
        "outputId": "73d51433-ddd3-402f-ffc6-0b6ffc7231fc"
      },
      "execution_count": null,
      "outputs": [
        {
          "output_type": "stream",
          "name": "stdout",
          "text": [
            "1\n",
            "2\n",
            "3\n"
          ]
        }
      ]
    },
    {
      "cell_type": "code",
      "source": [
        "for y in range(1, 4, 2): #starting value, stop, increment value\n",
        "  print(y)"
      ],
      "metadata": {
        "colab": {
          "base_uri": "https://localhost:8080/"
        },
        "id": "0idw6R-drcWI",
        "outputId": "697e72f7-4d1b-42ad-809c-5239d277334c"
      },
      "execution_count": null,
      "outputs": [
        {
          "output_type": "stream",
          "name": "stdout",
          "text": [
            "1\n",
            "3\n"
          ]
        }
      ]
    },
    {
      "cell_type": "code",
      "source": [
        "#While Loop\n",
        "\n",
        "i = 1\n",
        "while i < 6:\n",
        "  print(i)\n",
        "  i += 1"
      ],
      "metadata": {
        "colab": {
          "base_uri": "https://localhost:8080/"
        },
        "id": "amSmlO9fsAFR",
        "outputId": "cb5da527-3525-474c-8a3f-26d35f208a19"
      },
      "execution_count": null,
      "outputs": [
        {
          "output_type": "stream",
          "name": "stdout",
          "text": [
            "1\n",
            "2\n",
            "3\n",
            "4\n",
            "5\n"
          ]
        }
      ]
    },
    {
      "cell_type": "code",
      "source": [
        "#While Loop - break function\n",
        "x = 0\n",
        "while True:\n",
        "  x += 1\n",
        "  print(x)\n",
        "  if x == 2:\n",
        "    break\n",
        "\n"
      ],
      "metadata": {
        "colab": {
          "base_uri": "https://localhost:8080/"
        },
        "id": "Y9A14bUcsQOe",
        "outputId": "87faa6ab-1029-40fd-9ff9-d7b54085257c"
      },
      "execution_count": null,
      "outputs": [
        {
          "output_type": "stream",
          "name": "stdout",
          "text": [
            "1\n",
            "2\n"
          ]
        }
      ]
    },
    {
      "cell_type": "code",
      "source": [
        "#While Loop - continue()\n",
        "i = 0\n",
        "while i < 6:\n",
        "  i += 1\n",
        "  if i == 3:\n",
        "    continue\n",
        "  print(i)"
      ],
      "metadata": {
        "colab": {
          "base_uri": "https://localhost:8080/"
        },
        "id": "XozoXRQUslIb",
        "outputId": "0a327b93-1585-496b-c99a-4985fd7513dd"
      },
      "execution_count": null,
      "outputs": [
        {
          "output_type": "stream",
          "name": "stdout",
          "text": [
            "1\n",
            "2\n",
            "4\n",
            "5\n",
            "6\n"
          ]
        }
      ]
    },
    {
      "cell_type": "markdown",
      "source": [
        "# **Exercise**\n",
        "\n",
        "**Guidelines:**\n",
        "\n",
        "Questions are categorised into Basic, Intermediate and Hard. Only basic questions will be discussed in this workshop due to time constraints. However, the solutions will be given after the workshop!\n"
      ],
      "metadata": {
        "id": "AqVfQhaayT2a"
      }
    },
    {
      "cell_type": "code",
      "source": [
        "#Basic - Given a list of fruits, print out the name of the fruit if the word length is less than 5.\n",
        "\n",
        "fruit_list = [\"orange\", \"apple\", \"mango\", \"grapes\"]\n",
        "\n",
        "\n"
      ],
      "metadata": {
        "id": "21Rs4jhmqn8J"
      },
      "execution_count": null,
      "outputs": []
    },
    {
      "cell_type": "code",
      "source": [
        "#Basic - Given variable a, find the 3rd letter of the variable and print it out.\n",
        "\n",
        "a = \"apple\""
      ],
      "metadata": {
        "id": "vhH66rJ3rsNP"
      },
      "execution_count": null,
      "outputs": []
    },
    {
      "cell_type": "code",
      "source": [
        "#Basic: Create a code that will stop running if the (a-b) is negative.\n",
        "\n",
        "a = 13\n",
        "b = 3"
      ],
      "metadata": {
        "id": "kkWiyof_s5y_"
      },
      "execution_count": null,
      "outputs": []
    },
    {
      "cell_type": "markdown",
      "source": [
        "![Screenshot 2025-02-14 at 5.26.04 PM.png](data:image/png;base64,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)"
      ],
      "metadata": {
        "id": "i2WZLxhjxxuC"
      }
    },
    {
      "cell_type": "code",
      "source": [
        "#Hard: Create a pattern of a pyramid as seen above.\n",
        "#Hint: Use nested for loops ;)"
      ],
      "metadata": {
        "id": "qU1vFN9VxXdS"
      },
      "execution_count": null,
      "outputs": []
    },
    {
      "cell_type": "markdown",
      "source": [
        "# **Libraries**\n",
        "\n",
        "\n",
        "\n",
        "> Python libraries are collections of pre-written code modules that provide reusable functions and tools to simplify and extend programming tasks.\n",
        "\n",
        "1. Random Module\n",
        "  - random()\n",
        "  - randint(start, stop)\n",
        "\n",
        "2. Math Module\n",
        "  - math.ceil(x)\n",
        "  - math.floor(x)\n",
        "  - math.pow(x, y)\n",
        "  - math.sqrt(x, y)\n",
        "\n"
      ],
      "metadata": {
        "id": "9cCdxnKxtfHT"
      }
    },
    {
      "cell_type": "markdown",
      "source": [
        "You may be required to install the modules before running them via\n",
        "\n",
        "`pip install (module)`"
      ],
      "metadata": {
        "id": "o5o0oUFoX3PR"
      }
    },
    {
      "cell_type": "code",
      "source": [
        "!pip install math\n",
        "!pip install random\n",
        "# colab throws an error because its already downloaded, this is mostly if youre\n",
        "# doing python work outside of colab"
      ],
      "metadata": {
        "colab": {
          "base_uri": "https://localhost:8080/"
        },
        "id": "GsReLQVaX_qb",
        "outputId": "125a692a-ca4e-4154-a7db-50295fe274b6"
      },
      "execution_count": null,
      "outputs": [
        {
          "output_type": "stream",
          "name": "stdout",
          "text": [
            "\u001b[31mERROR: Could not find a version that satisfies the requirement math (from versions: none)\u001b[0m\u001b[31m\n",
            "\u001b[0m\u001b[31mERROR: No matching distribution found for math\u001b[0m\u001b[31m\n",
            "\u001b[0m\u001b[31mERROR: Could not find a version that satisfies the requirement random (from versions: none)\u001b[0m\u001b[31m\n",
            "\u001b[0m\u001b[31mERROR: No matching distribution found for random\u001b[0m\u001b[31m\n",
            "\u001b[0m"
          ]
        }
      ]
    },
    {
      "cell_type": "code",
      "source": [
        "#Random Module\n",
        "import random\n",
        "\n",
        "random.random()\n"
      ],
      "metadata": {
        "colab": {
          "base_uri": "https://localhost:8080/"
        },
        "id": "zEJlrx1WuDs1",
        "outputId": "56e83948-df8d-4c99-b6c0-a7180b1ee006"
      },
      "execution_count": null,
      "outputs": [
        {
          "output_type": "execute_result",
          "data": {
            "text/plain": [
              "0.17730414240072356"
            ]
          },
          "metadata": {},
          "execution_count": 16
        }
      ]
    },
    {
      "cell_type": "code",
      "source": [
        "random.randint(10, 20)"
      ],
      "metadata": {
        "colab": {
          "base_uri": "https://localhost:8080/"
        },
        "id": "Au3W-oZUuVaK",
        "outputId": "8ec71937-037a-4342-e288-373177facaf3"
      },
      "execution_count": null,
      "outputs": [
        {
          "output_type": "execute_result",
          "data": {
            "text/plain": [
              "11"
            ]
          },
          "metadata": {},
          "execution_count": 17
        }
      ]
    },
    {
      "cell_type": "code",
      "source": [
        "#Math Module\n",
        "import math\n",
        "\n",
        "math.ceil(0.177304)"
      ],
      "metadata": {
        "colab": {
          "base_uri": "https://localhost:8080/"
        },
        "id": "o2EQZaYWuerr",
        "outputId": "b17006ae-bc64-42c4-d101-e8e779f06868"
      },
      "execution_count": null,
      "outputs": [
        {
          "output_type": "execute_result",
          "data": {
            "text/plain": [
              "1"
            ]
          },
          "metadata": {},
          "execution_count": 18
        }
      ]
    },
    {
      "cell_type": "code",
      "source": [
        "math.floor(0.177304)"
      ],
      "metadata": {
        "colab": {
          "base_uri": "https://localhost:8080/"
        },
        "id": "oYunyQJAun8t",
        "outputId": "3d2ee38b-b75f-4387-edd6-428ca6c7b400"
      },
      "execution_count": null,
      "outputs": [
        {
          "output_type": "execute_result",
          "data": {
            "text/plain": [
              "0"
            ]
          },
          "metadata": {},
          "execution_count": 19
        }
      ]
    },
    {
      "cell_type": "code",
      "source": [
        "math.pow(2, 3)"
      ],
      "metadata": {
        "colab": {
          "base_uri": "https://localhost:8080/"
        },
        "id": "rCsQezBjuqu5",
        "outputId": "bf5b2eab-2722-47f7-e816-db60c4ea373f"
      },
      "execution_count": null,
      "outputs": [
        {
          "output_type": "execute_result",
          "data": {
            "text/plain": [
              "8.0"
            ]
          },
          "metadata": {},
          "execution_count": 20
        }
      ]
    },
    {
      "cell_type": "code",
      "source": [
        "math.sqrt(4)"
      ],
      "metadata": {
        "colab": {
          "base_uri": "https://localhost:8080/"
        },
        "id": "WQ4PLzvLuxVD",
        "outputId": "e3b54f07-a4b3-4dfc-98b5-ddab4b9cb480"
      },
      "execution_count": null,
      "outputs": [
        {
          "output_type": "execute_result",
          "data": {
            "text/plain": [
              "2.0"
            ]
          },
          "metadata": {},
          "execution_count": 22
        }
      ]
    },
    {
      "cell_type": "markdown",
      "source": [
        "#Functions"
      ],
      "metadata": {
        "id": "ItvtjDfDi1rG"
      }
    },
    {
      "cell_type": "markdown",
      "source": [
        "Reusable bits of code that are pre-defined.\n",
        "\n",
        "May require values known as parameters to be passed into it."
      ],
      "metadata": {
        "id": "pTslyujNi3Gl"
      }
    },
    {
      "cell_type": "code",
      "source": [
        "def func(args, kwargs=None):\n",
        "  ..."
      ],
      "metadata": {
        "id": "kSiDHIJBjEC1"
      },
      "execution_count": null,
      "outputs": []
    },
    {
      "cell_type": "markdown",
      "source": [
        "`args` are parameters that must be provided for the function to run.\n",
        "\n",
        "`kwargs` are parameters that are optional for the funtion to run; they have a default value in the case that a variable for it is not provided."
      ],
      "metadata": {
        "id": "2AkfRQvJkTg6"
      }
    },
    {
      "cell_type": "code",
      "source": [
        "def isEven(num):\n",
        "  if num % 2 == 0:\n",
        "    print(\"This number is even!\")\n",
        "    return True\n",
        "  else:\n",
        "    print(\"This number is odd!\")\n",
        "    return\n",
        "# Function name: isEven\n",
        "# Arguments: num\n",
        "# Keyword Arguments: None"
      ],
      "metadata": {
        "id": "3KPFYIf-jHTB"
      },
      "execution_count": null,
      "outputs": []
    },
    {
      "cell_type": "markdown",
      "source": [
        "Functions may **return** values for code to use using the `return` keyword."
      ],
      "metadata": {
        "id": "iCbhD2ZomOcR"
      }
    },
    {
      "cell_type": "code",
      "source": [
        "def isEven(num):\n",
        "  if num % 2 == 0:\n",
        "    return True\n",
        "  else:\n",
        "    return False\n",
        "print(isEven(2))"
      ],
      "metadata": {
        "colab": {
          "base_uri": "https://localhost:8080/"
        },
        "id": "GTufMQQ3mL3w",
        "outputId": "fc1d71bc-b932-4e9c-df95-485a0bd58c1c"
      },
      "execution_count": null,
      "outputs": [
        {
          "output_type": "stream",
          "name": "stdout",
          "text": [
            "True\n"
          ]
        }
      ]
    },
    {
      "cell_type": "markdown",
      "source": [
        "# Mini Projects\n",
        "The projects are ranked by complexity and difficulty. Try to attempt them!"
      ],
      "metadata": {
        "id": "zfaueo15Ic-k"
      }
    },
    {
      "cell_type": "markdown",
      "source": [
        "**Basic**: Evaluate if the input is a leap year or not.\n",
        "\n",
        "Sample inputs and outputs:\n",
        "\n",
        "\n",
        "```\n",
        "Enter year: 2022\n",
        "2022 is not a leap year.\n",
        "\n",
        "Enter year: 2000\n",
        "2000 is a leap year.\n",
        "\n",
        "Enter year: 1900\n",
        "1900 is not a leap year.\n",
        "```\n",
        "\n",
        "A leap year occurs:\n",
        "* In every year that is evenly divisible by 4.\n",
        "* Unless the year is evenly divisible by 100, in which case it's only a leap year if the year is also evenly divisible by 400.\n",
        "\n",
        "\n",
        "\n",
        "\n"
      ],
      "metadata": {
        "id": "NMRq30aPJ9Jx"
      }
    },
    {
      "cell_type": "code",
      "source": [],
      "metadata": {
        "id": "35IUMHgNKhQE"
      },
      "execution_count": null,
      "outputs": []
    },
    {
      "cell_type": "markdown",
      "source": [
        "**Intermediate**: Create an NRIC validator that takes in an NRIC as input and output if it is valid.\n",
        "\n",
        "\n",
        "\n",
        "Sample inputs and outputs:\n",
        "```\n",
        "Enter your NRIC: S1234567A\n",
        "Your NRIC is invalid\n",
        "\n",
        "Enter your NRIC: S1234\n",
        "Your input length must be 9\n",
        "\n",
        "Enter your NRIC A1234567D\n",
        "NRIC must start with S or T\n",
        "\n",
        "Enter your NRIC: S1234567D\n",
        "Your NRIC is valid\n",
        "```\n",
        "\n",
        "Refer to https://ivantay2003.medium.com/creation-of-singapore-identity-number-nric-24fc3b446145 for the algorithm and explaination of the NRIC validator.\n",
        "\n",
        "*Note: We are only focusing on NRIC for Singaporeans.*\n"
      ],
      "metadata": {
        "id": "_HJ1CQT2FAL8"
      }
    },
    {
      "cell_type": "code",
      "source": [],
      "metadata": {
        "id": "fuqrU_XLKjFl"
      },
      "execution_count": null,
      "outputs": []
    },
    {
      "cell_type": "markdown",
      "source": [
        "**Advanced**: using the `random` module, and your knowledge on `user inputs`, `loops`, and `lists`, create a simple game of tic tac toe.\n",
        "\n",
        "1. Allow the user to choose whether to start first or second (`X` or `O` respectively)\n",
        "2. create a form of AI using the `random` module to play with the user.\n",
        "\n",
        "It is highly recommended that you use `functions` to segment and organise your code."
      ],
      "metadata": {
        "id": "l-TieEMkmODa"
      }
    },
    {
      "cell_type": "markdown",
      "source": [
        "Sample Input:\n",
        "```\n",
        "Type '1' for X and '0' for O. X will always go first.\n",
        "> 1\n",
        "\n",
        "Current Grid\n",
        "/_/_/_/\n",
        "/_/_/_/\n",
        "/_/_/_/\n",
        "\n",
        "...\n",
        "\n",
        "Current Grid\n",
        "/X/O/O/\n",
        "/O/X/X/\n",
        "/X/X/O/\n",
        "\n",
        "DRAW!\n",
        "```"
      ],
      "metadata": {
        "id": "YTPNXREXUQh6"
      }
    },
    {
      "cell_type": "markdown",
      "source": [
        "Hint:\n",
        "\n",
        "Write down the different things you have to do.\n",
        "\n",
        "For example,\n",
        "1. Print the tic tac toe grid out\n",
        "2. Check for winners or a draw\n",
        "3. Let the AI choose a position"
      ],
      "metadata": {
        "id": "ZTvWDEUZU5mq"
      }
    },
    {
      "cell_type": "code",
      "source": [],
      "metadata": {
        "id": "-m7Hi6x3UQSh"
      },
      "execution_count": null,
      "outputs": []
    },
    {
      "cell_type": "markdown",
      "source": [
        "# **Further Readings**\n",
        "\n",
        "[Python.land Python Tutorial](https://python.land/introduction-to-python)\n",
        "\n",
        "[W3Schools Python Tutorial](https://www.w3schools.com/python/default.asp)\n",
        "\n",
        "\n",
        "\n",
        "Stuff to learn on your own:\n",
        "- Classes\n",
        "- Tuples\n",
        "- Recursion (Hard)\n",
        "\n",
        "\n"
      ],
      "metadata": {
        "id": "buxqEnaWwjOW"
      }
    }
  ]
}